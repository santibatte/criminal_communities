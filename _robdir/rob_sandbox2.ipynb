{
 "cells": [
  {
   "cell_type": "markdown",
   "id": "afe04e63-98c0-4f53-bc0e-4f3f53c72ea4",
   "metadata": {
    "tags": []
   },
   "source": [
    "# Rob Sandbox\n",
    "- Tests and trials developed by Rob"
   ]
  },
  {
   "cell_type": "markdown",
   "id": "81511f27-7dcf-4766-bb32-b05cec1d5d6e",
   "metadata": {
    "tags": []
   },
   "source": [
    "# Imports"
   ]
  },
  {
   "cell_type": "markdown",
   "id": "ce2a6c8d-44b2-4d5d-aba0-6221a699a1b2",
   "metadata": {
    "tags": []
   },
   "source": [
    "#### Standard library imports"
   ]
  },
  {
   "cell_type": "markdown",
   "id": "09437f36-c0e3-4964-9668-5b9908a35600",
   "metadata": {},
   "source": [
    "#### Local application imports"
   ]
  },
  {
   "cell_type": "markdown",
   "id": "8b9f2d79-f7cc-4d9d-b418-8b58a91fbbc5",
   "metadata": {
    "tags": []
   },
   "source": [
    "#### Third party imports"
   ]
  },
  {
   "cell_type": "code",
   "execution_count": 1,
   "id": "3f8a5e8e-91d6-4914-b820-d63655858f53",
   "metadata": {
    "scrolled": true
   },
   "outputs": [],
   "source": [
    "import pandas as pd\n",
    "\n",
    "import numpy as np\n",
    "\n",
    "import networkx as nx\n",
    "\n",
    "import scipy.sparse\n",
    "from scipy.sparse import csr_matrix\n",
    "\n",
    "import matplotlib.pyplot as plt"
   ]
  },
  {
   "cell_type": "markdown",
   "id": "5b505a6a-b375-451f-b6bc-201fba79fb85",
   "metadata": {},
   "source": [
    "---"
   ]
  },
  {
   "cell_type": "markdown",
   "id": "24ef845f-02b3-4845-afa3-1a4405f02c41",
   "metadata": {
    "tags": []
   },
   "source": [
    "# Reading data "
   ]
  },
  {
   "cell_type": "markdown",
   "id": "5ce5da52-27f5-41d7-b708-d81d977bdc2c",
   "metadata": {
    "tags": []
   },
   "source": [
    "## Reading data from csv"
   ]
  },
  {
   "cell_type": "code",
   "execution_count": 2,
   "id": "58925fb9-75ab-4167-bb98-e4bdd129ded6",
   "metadata": {
    "scrolled": true
   },
   "outputs": [],
   "source": [
    "df = pd.read_csv(\"Cooffending.csv\")"
   ]
  },
  {
   "cell_type": "code",
   "execution_count": 3,
   "id": "468680a4-0651-4cc1-9eca-45638ac9abd3",
   "metadata": {
    "scrolled": true
   },
   "outputs": [
    {
     "data": {
      "text/html": [
       "<div>\n",
       "<style scoped>\n",
       "    .dataframe tbody tr th:only-of-type {\n",
       "        vertical-align: middle;\n",
       "    }\n",
       "\n",
       "    .dataframe tbody tr th {\n",
       "        vertical-align: top;\n",
       "    }\n",
       "\n",
       "    .dataframe thead th {\n",
       "        text-align: right;\n",
       "    }\n",
       "</style>\n",
       "<table border=\"1\" class=\"dataframe\">\n",
       "  <thead>\n",
       "    <tr style=\"text-align: right;\">\n",
       "      <th></th>\n",
       "      <th>OffenderIdentifier</th>\n",
       "      <th>OffenderGender</th>\n",
       "      <th>CrimeIdentifier</th>\n",
       "      <th>CrimeType1</th>\n",
       "      <th>CrimeType2</th>\n",
       "      <th>CrimeType3</th>\n",
       "      <th>CrimeType4</th>\n",
       "      <th>Municipality</th>\n",
       "      <th>CrimeLocation</th>\n",
       "      <th>NumberYouthOffenders</th>\n",
       "      <th>NumberAdultOffenders</th>\n",
       "      <th>CrimeDate</th>\n",
       "      <th>CrimeYear</th>\n",
       "    </tr>\n",
       "  </thead>\n",
       "  <tbody>\n",
       "    <tr>\n",
       "      <th>0</th>\n",
       "      <td>1</td>\n",
       "      <td>F</td>\n",
       "      <td>1085034</td>\n",
       "      <td>3530.0</td>\n",
       "      <td>NaN</td>\n",
       "      <td>NaN</td>\n",
       "      <td>NaN</td>\n",
       "      <td>58227</td>\n",
       "      <td>2.0</td>\n",
       "      <td>0</td>\n",
       "      <td>1</td>\n",
       "      <td>12/17/2005</td>\n",
       "      <td>2005</td>\n",
       "    </tr>\n",
       "    <tr>\n",
       "      <th>1</th>\n",
       "      <td>2</td>\n",
       "      <td>F</td>\n",
       "      <td>1431379</td>\n",
       "      <td>1430.0</td>\n",
       "      <td>NaN</td>\n",
       "      <td>NaN</td>\n",
       "      <td>NaN</td>\n",
       "      <td>94068</td>\n",
       "      <td>5.0</td>\n",
       "      <td>0</td>\n",
       "      <td>1</td>\n",
       "      <td>04/23/2008</td>\n",
       "      <td>2008</td>\n",
       "    </tr>\n",
       "    <tr>\n",
       "      <th>2</th>\n",
       "      <td>4</td>\n",
       "      <td>M</td>\n",
       "      <td>167174</td>\n",
       "      <td>1430.0</td>\n",
       "      <td>21702.0</td>\n",
       "      <td>NaN</td>\n",
       "      <td>NaN</td>\n",
       "      <td>49058</td>\n",
       "      <td>2.0</td>\n",
       "      <td>0</td>\n",
       "      <td>1</td>\n",
       "      <td>03/06/2008</td>\n",
       "      <td>2008</td>\n",
       "    </tr>\n",
       "    <tr>\n",
       "      <th>3</th>\n",
       "      <td>5</td>\n",
       "      <td>M</td>\n",
       "      <td>1179096</td>\n",
       "      <td>1420.0</td>\n",
       "      <td>NaN</td>\n",
       "      <td>NaN</td>\n",
       "      <td>NaN</td>\n",
       "      <td>65005</td>\n",
       "      <td>71.0</td>\n",
       "      <td>0</td>\n",
       "      <td>1</td>\n",
       "      <td>08/21/2008</td>\n",
       "      <td>2008</td>\n",
       "    </tr>\n",
       "    <tr>\n",
       "      <th>4</th>\n",
       "      <td>17</td>\n",
       "      <td>M</td>\n",
       "      <td>1270690</td>\n",
       "      <td>1625.0</td>\n",
       "      <td>NaN</td>\n",
       "      <td>NaN</td>\n",
       "      <td>NaN</td>\n",
       "      <td>23027</td>\n",
       "      <td>NaN</td>\n",
       "      <td>0</td>\n",
       "      <td>3</td>\n",
       "      <td>04/30/2003</td>\n",
       "      <td>2003</td>\n",
       "    </tr>\n",
       "    <tr>\n",
       "      <th>...</th>\n",
       "      <td>...</td>\n",
       "      <td>...</td>\n",
       "      <td>...</td>\n",
       "      <td>...</td>\n",
       "      <td>...</td>\n",
       "      <td>...</td>\n",
       "      <td>...</td>\n",
       "      <td>...</td>\n",
       "      <td>...</td>\n",
       "      <td>...</td>\n",
       "      <td>...</td>\n",
       "      <td>...</td>\n",
       "      <td>...</td>\n",
       "    </tr>\n",
       "    <tr>\n",
       "      <th>1280454</th>\n",
       "      <td>670532</td>\n",
       "      <td>F</td>\n",
       "      <td>1112491</td>\n",
       "      <td>1330.0</td>\n",
       "      <td>NaN</td>\n",
       "      <td>NaN</td>\n",
       "      <td>NaN</td>\n",
       "      <td>58227</td>\n",
       "      <td>34.0</td>\n",
       "      <td>0</td>\n",
       "      <td>1</td>\n",
       "      <td>03/26/2009</td>\n",
       "      <td>2009</td>\n",
       "    </tr>\n",
       "    <tr>\n",
       "      <th>1280455</th>\n",
       "      <td>670533</td>\n",
       "      <td>M</td>\n",
       "      <td>78081</td>\n",
       "      <td>21702.0</td>\n",
       "      <td>NaN</td>\n",
       "      <td>NaN</td>\n",
       "      <td>NaN</td>\n",
       "      <td>46075</td>\n",
       "      <td>10.0</td>\n",
       "      <td>0</td>\n",
       "      <td>4</td>\n",
       "      <td>06/29/2009</td>\n",
       "      <td>2009</td>\n",
       "    </tr>\n",
       "    <tr>\n",
       "      <th>1280456</th>\n",
       "      <td>670534</td>\n",
       "      <td>M</td>\n",
       "      <td>187904</td>\n",
       "      <td>21201.0</td>\n",
       "      <td>21702.0</td>\n",
       "      <td>NaN</td>\n",
       "      <td>NaN</td>\n",
       "      <td>31015</td>\n",
       "      <td>1.0</td>\n",
       "      <td>0</td>\n",
       "      <td>4</td>\n",
       "      <td>03/16/2009</td>\n",
       "      <td>2009</td>\n",
       "    </tr>\n",
       "    <tr>\n",
       "      <th>1280457</th>\n",
       "      <td>670535</td>\n",
       "      <td>M</td>\n",
       "      <td>523837</td>\n",
       "      <td>21704.0</td>\n",
       "      <td>NaN</td>\n",
       "      <td>NaN</td>\n",
       "      <td>NaN</td>\n",
       "      <td>98806</td>\n",
       "      <td>1.0</td>\n",
       "      <td>0</td>\n",
       "      <td>1</td>\n",
       "      <td>10/18/2009</td>\n",
       "      <td>2009</td>\n",
       "    </tr>\n",
       "    <tr>\n",
       "      <th>1280458</th>\n",
       "      <td>670536</td>\n",
       "      <td>M</td>\n",
       "      <td>1632652</td>\n",
       "      <td>21101.0</td>\n",
       "      <td>NaN</td>\n",
       "      <td>NaN</td>\n",
       "      <td>NaN</td>\n",
       "      <td>97802</td>\n",
       "      <td>1.0</td>\n",
       "      <td>0</td>\n",
       "      <td>2</td>\n",
       "      <td>11/24/2008</td>\n",
       "      <td>2008</td>\n",
       "    </tr>\n",
       "  </tbody>\n",
       "</table>\n",
       "<p>1280459 rows × 13 columns</p>\n",
       "</div>"
      ],
      "text/plain": [
       "         OffenderIdentifier OffenderGender  CrimeIdentifier  CrimeType1  \\\n",
       "0                         1              F          1085034      3530.0   \n",
       "1                         2              F          1431379      1430.0   \n",
       "2                         4              M           167174      1430.0   \n",
       "3                         5              M          1179096      1420.0   \n",
       "4                        17              M          1270690      1625.0   \n",
       "...                     ...            ...              ...         ...   \n",
       "1280454              670532              F          1112491      1330.0   \n",
       "1280455              670533              M            78081     21702.0   \n",
       "1280456              670534              M           187904     21201.0   \n",
       "1280457              670535              M           523837     21704.0   \n",
       "1280458              670536              M          1632652     21101.0   \n",
       "\n",
       "         CrimeType2  CrimeType3  CrimeType4  Municipality  CrimeLocation  \\\n",
       "0               NaN         NaN         NaN         58227            2.0   \n",
       "1               NaN         NaN         NaN         94068            5.0   \n",
       "2           21702.0         NaN         NaN         49058            2.0   \n",
       "3               NaN         NaN         NaN         65005           71.0   \n",
       "4               NaN         NaN         NaN         23027            NaN   \n",
       "...             ...         ...         ...           ...            ...   \n",
       "1280454         NaN         NaN         NaN         58227           34.0   \n",
       "1280455         NaN         NaN         NaN         46075           10.0   \n",
       "1280456     21702.0         NaN         NaN         31015            1.0   \n",
       "1280457         NaN         NaN         NaN         98806            1.0   \n",
       "1280458         NaN         NaN         NaN         97802            1.0   \n",
       "\n",
       "         NumberYouthOffenders  NumberAdultOffenders   CrimeDate  CrimeYear  \n",
       "0                           0                     1  12/17/2005       2005  \n",
       "1                           0                     1  04/23/2008       2008  \n",
       "2                           0                     1  03/06/2008       2008  \n",
       "3                           0                     1  08/21/2008       2008  \n",
       "4                           0                     3  04/30/2003       2003  \n",
       "...                       ...                   ...         ...        ...  \n",
       "1280454                     0                     1  03/26/2009       2009  \n",
       "1280455                     0                     4  06/29/2009       2009  \n",
       "1280456                     0                     4  03/16/2009       2009  \n",
       "1280457                     0                     1  10/18/2009       2009  \n",
       "1280458                     0                     2  11/24/2008       2008  \n",
       "\n",
       "[1280459 rows x 13 columns]"
      ]
     },
     "execution_count": 3,
     "metadata": {},
     "output_type": "execute_result"
    }
   ],
   "source": [
    "df"
   ]
  },
  {
   "cell_type": "markdown",
   "id": "36c3a158-12d0-4903-8f1f-3ebb46d50055",
   "metadata": {
    "heading_collapsed": "true",
    "tags": []
   },
   "source": [
    "## Initial data exploration"
   ]
  },
  {
   "cell_type": "markdown",
   "id": "b4f3f636-0308-4bc8-a931-f56570c4357c",
   "metadata": {
    "heading_collapsed": "true",
    "tags": []
   },
   "source": [
    "### CrimeIdentifier"
   ]
  },
  {
   "cell_type": "markdown",
   "id": "a222fd66-2c49-4efd-9d94-0fa64da5cd48",
   "metadata": {
    "heading_collapsed": "true",
    "tags": []
   },
   "source": [
    "#### How many CrimeIds are unique"
   ]
  },
  {
   "cell_type": "code",
   "execution_count": null,
   "id": "82bdd38d-cacb-44a8-87da-8a1f8e3ff739",
   "metadata": {
    "scrolled": true
   },
   "outputs": [],
   "source": [
    "1 - len(df[\"CrimeIdentifier\"].unique())/len(df[\"CrimeIdentifier\"].notnull())"
   ]
  },
  {
   "cell_type": "markdown",
   "id": "861dfe6a-7683-49af-a107-c90b6810850e",
   "metadata": {
    "heading_collapsed": "true",
    "tags": []
   },
   "source": [
    "#### Which crimes have more than one CrimeID?"
   ]
  },
  {
   "cell_type": "code",
   "execution_count": null,
   "id": "7116ac2d-9dc0-48a7-98d8-aaeb07aa5d3d",
   "metadata": {},
   "outputs": [],
   "source": [
    "dfx = df[\"CrimeIdentifier\"].value_counts().to_frame()\n",
    "\n",
    "# x = x[(x[\"CrimeIdentifier\"] > 1) & (x[\"CrimeIdentifier\"] < 10)]\n",
    "dfx = dfx[(dfx[\"CrimeIdentifier\"] > 10)]\n",
    "\n",
    "dfx.value_counts()\n",
    "\n",
    "## Histogram\n",
    "# plt.hist(dfx[\"CrimeIdentifier\"])\n",
    "plt.hist(dfx[\"CrimeIdentifier\"], bins=len(dfx[\"CrimeIdentifier\"].unique()))"
   ]
  },
  {
   "cell_type": "code",
   "execution_count": null,
   "id": "35d0308e-bae9-4d73-b6c9-e728a520eceb",
   "metadata": {
    "scrolled": true,
    "tags": []
   },
   "outputs": [],
   "source": [
    "ref_val = 23610\n",
    "df[df[\"CrimeIdentifier\"] == ref_val]"
   ]
  },
  {
   "cell_type": "markdown",
   "id": "11ae6d79-4bfa-432f-bb9a-e816df485cd0",
   "metadata": {
    "heading_collapsed": "true",
    "tags": []
   },
   "source": [
    "### CrimeTypeX"
   ]
  },
  {
   "cell_type": "markdown",
   "id": "78519e70-2693-4415-9011-500d8ba79060",
   "metadata": {},
   "source": [
    "#### How many unique CrimeType1 are there?"
   ]
  },
  {
   "cell_type": "code",
   "execution_count": null,
   "id": "80ce5917-95a5-40df-9b81-52a402c37380",
   "metadata": {},
   "outputs": [],
   "source": [
    "len(df[\"CrimeType1\"].unique())"
   ]
  },
  {
   "cell_type": "code",
   "execution_count": null,
   "id": "ac556235-657a-4273-8017-998b8c693dea",
   "metadata": {},
   "outputs": [],
   "source": [
    "len(df[\"CrimeType2\"].unique())"
   ]
  },
  {
   "cell_type": "code",
   "execution_count": null,
   "id": "5fe9c2f5-ea31-4bab-b91d-b435f30d1086",
   "metadata": {},
   "outputs": [],
   "source": [
    "len(df[\"CrimeType3\"].unique())"
   ]
  },
  {
   "cell_type": "code",
   "execution_count": null,
   "id": "d567be49-9ede-4bfc-a964-25c0daa3d913",
   "metadata": {},
   "outputs": [],
   "source": [
    "len(df[\"CrimeType4\"].unique())"
   ]
  },
  {
   "cell_type": "markdown",
   "id": "33764581-884c-4c71-9c80-e35cee5eb9dc",
   "metadata": {},
   "source": [
    "---"
   ]
  },
  {
   "cell_type": "markdown",
   "id": "159f7c38-f929-4178-b90e-a043d489dbe3",
   "metadata": {
    "heading_collapsed": "true",
    "tags": []
   },
   "source": [
    "# Analysis 1: Building matrix relating *Crime type* and *Municipality*"
   ]
  },
  {
   "cell_type": "code",
   "execution_count": null,
   "id": "75250e64-aed4-4798-a523-b4161cac5a6d",
   "metadata": {
    "scrolled": true
   },
   "outputs": [],
   "source": [
    "dfx = df.copy()"
   ]
  },
  {
   "cell_type": "markdown",
   "id": "3fdfad2e-c16a-4fbe-855b-486f54e87315",
   "metadata": {
    "heading_collapsed": "true",
    "tags": []
   },
   "source": [
    "## Defining relevant columns"
   ]
  },
  {
   "cell_type": "code",
   "execution_count": null,
   "id": "2f379251-9ded-4d89-ad59-84db51d74803",
   "metadata": {
    "scrolled": true
   },
   "outputs": [],
   "source": [
    "rc = [\"CrimeType1\", \"Municipality\"]\n",
    "dfx = dfx.loc[:, rc]"
   ]
  },
  {
   "cell_type": "markdown",
   "id": "d6ec4066-0b9e-4ca4-892f-8ad35a9a670c",
   "metadata": {},
   "source": [
    "## Cleaning and preparing original data"
   ]
  },
  {
   "cell_type": "markdown",
   "id": "02dac8c1-877c-4e48-97cf-b6e1295eb256",
   "metadata": {
    "tags": []
   },
   "source": [
    "### Eliminating rows with null values"
   ]
  },
  {
   "cell_type": "code",
   "execution_count": null,
   "id": "d4867e9a-57eb-4728-a259-56157a9f9fdf",
   "metadata": {
    "scrolled": true
   },
   "outputs": [],
   "source": [
    "dfx.info()"
   ]
  },
  {
   "cell_type": "code",
   "execution_count": null,
   "id": "db051ea5-dca6-4ceb-a552-c03c69c9892f",
   "metadata": {
    "scrolled": true
   },
   "outputs": [],
   "source": [
    "dfx = dfx.loc[dfx[\"CrimeType1\"].notnull(), :]"
   ]
  },
  {
   "cell_type": "markdown",
   "id": "b7929ef2-a85d-45e1-9d79-c9c9b939c100",
   "metadata": {
    "tags": []
   },
   "source": [
    "### Reindexing and reformatting"
   ]
  },
  {
   "cell_type": "code",
   "execution_count": null,
   "id": "0d43a122-02e4-4a69-9e48-8801889b6a9f",
   "metadata": {
    "scrolled": true
   },
   "outputs": [],
   "source": [
    "for col in dfx.columns:\n",
    "    dfx[col] = dfx[col].astype(\"int64\")\n",
    "    dfx[col] = pd.factorize(dfx[col])[0]"
   ]
  },
  {
   "cell_type": "markdown",
   "id": "d615443f-17db-44f7-b961-7aea0d727a10",
   "metadata": {
    "tags": []
   },
   "source": [
    "### Simplified matrix"
   ]
  },
  {
   "cell_type": "code",
   "execution_count": null,
   "id": "500ad6ee-d864-4a49-9e0d-845c2089d8bc",
   "metadata": {
    "scrolled": true
   },
   "outputs": [],
   "source": [
    "dfx = np.column_stack(\n",
    "    [\n",
    "        np.ones(dfx.shape[0], dtype=int),\n",
    "        np.array(dfx[\"CrimeType1\"]),\n",
    "        np.array(dfx[\"Municipality\"])\n",
    "    ]\n",
    ")\n",
    "\n",
    "dfx.shape"
   ]
  },
  {
   "cell_type": "markdown",
   "id": "804ca01a-3f43-48b6-84fd-ae388609d506",
   "metadata": {
    "tags": []
   },
   "source": [
    "### Data as sparse matrix"
   ]
  },
  {
   "cell_type": "code",
   "execution_count": null,
   "id": "6223a101-b056-4d03-b2d3-46a04dc6c183",
   "metadata": {
    "scrolled": true
   },
   "outputs": [],
   "source": [
    "crime_matrix = csr_matrix(\n",
    "    (\n",
    "        dfx[:, 0].sum(),\n",
    "        (dfx[:, 1], dfx[:, 2])\n",
    "    ),\n",
    "    shape=(\n",
    "        dfx[:, 1].max() + 1,\n",
    "        dfx[:, 2].max() + 1\n",
    "    )\n",
    ")"
   ]
  },
  {
   "cell_type": "markdown",
   "id": "48ccb3bd-5900-4088-ad61-bfb4e336a393",
   "metadata": {
    "tags": []
   },
   "source": [
    "### Adjacency matrix"
   ]
  },
  {
   "cell_type": "code",
   "execution_count": null,
   "id": "b11650c7-4d1d-4aae-97e5-5b96fc705a04",
   "metadata": {
    "scrolled": true
   },
   "outputs": [],
   "source": [
    "A = crime_matrix*crime_matrix.T "
   ]
  },
  {
   "cell_type": "markdown",
   "id": "54e5f7b1-4244-4c41-af19-f08f53eeb8f4",
   "metadata": {},
   "source": [
    "---"
   ]
  },
  {
   "cell_type": "markdown",
   "id": "06716acc-f231-4fbd-b011-e50b3612e1fe",
   "metadata": {
    "heading_collapsed": "true",
    "tags": []
   },
   "source": [
    "# Analysis 2: Relating *OffenderId* and *Municipality*"
   ]
  },
  {
   "cell_type": "code",
   "execution_count": null,
   "id": "d3a09bd3-9588-4a28-9d9e-f19adf4279dd",
   "metadata": {
    "scrolled": true
   },
   "outputs": [],
   "source": [
    "dfx = df.copy()"
   ]
  },
  {
   "cell_type": "markdown",
   "id": "ffc127dd-2d72-4013-8a85-79f8b621edbb",
   "metadata": {
    "heading_collapsed": "true",
    "tags": []
   },
   "source": [
    "## Defining relevant columns"
   ]
  },
  {
   "cell_type": "code",
   "execution_count": null,
   "id": "7a21f834-8310-4bf8-aa74-5cca68a7a71e",
   "metadata": {
    "scrolled": true
   },
   "outputs": [],
   "source": [
    "rc = [\"OffenderIdentifier\", \"Municipality\"]\n",
    "# dfx = dfx.loc[:, rc]"
   ]
  },
  {
   "cell_type": "markdown",
   "id": "b9ffd7d8-c2dd-4c31-bb70-28824b557e85",
   "metadata": {
    "heading_collapsed": "true",
    "tags": []
   },
   "source": [
    "## Cleaning and preparing original data"
   ]
  },
  {
   "cell_type": "markdown",
   "id": "611d5170-e89c-4b7f-bc5f-72c136f1b403",
   "metadata": {
    "heading_collapsed": "true",
    "tags": []
   },
   "source": [
    "### Eliminating rows with null values"
   ]
  },
  {
   "cell_type": "code",
   "execution_count": null,
   "id": "ae817988-4e34-453e-9a31-0261fee98dd5",
   "metadata": {
    "scrolled": true
   },
   "outputs": [],
   "source": [
    "dfx.info()"
   ]
  },
  {
   "cell_type": "markdown",
   "id": "95748578-782f-45d2-b1b6-b9bdf40d6f0c",
   "metadata": {
    "tags": []
   },
   "source": [
    "### Eliminating duplicated rows"
   ]
  },
  {
   "cell_type": "code",
   "execution_count": null,
   "id": "411e64d1-16a0-4893-8d9a-28d360d74b9a",
   "metadata": {},
   "outputs": [],
   "source": [
    "dfx = dfx.drop_duplicates(subset=rc)"
   ]
  },
  {
   "cell_type": "markdown",
   "id": "22e27ffe-208c-4fa4-bd24-28d571a5fa84",
   "metadata": {
    "tags": []
   },
   "source": [
    "### Reindexing and reformatting"
   ]
  },
  {
   "cell_type": "code",
   "execution_count": null,
   "id": "6ab9a7cf-a057-4837-8fcf-70035a3b718f",
   "metadata": {
    "scrolled": true
   },
   "outputs": [],
   "source": [
    "for col in rc:\n",
    "    dfx[col] = dfx[col].astype(\"int64\")\n",
    "    dfx[col] = pd.factorize(dfx[col])[0]"
   ]
  },
  {
   "cell_type": "markdown",
   "id": "404f5493-9a76-46af-ba45-d4254ddf0f66",
   "metadata": {
    "tags": []
   },
   "source": [
    "### To numpy array"
   ]
  },
  {
   "cell_type": "code",
   "execution_count": null,
   "id": "1c7a2942-4365-4d36-8e2e-c47e846f5b77",
   "metadata": {
    "scrolled": true
   },
   "outputs": [],
   "source": [
    "dfx = np.column_stack(\n",
    "    [\n",
    "        np.ones(dfx.shape[0], dtype=int),\n",
    "        np.array(dfx[rc[0]]),\n",
    "        np.array(dfx[rc[1]])\n",
    "    ]\n",
    ")\n",
    "\n",
    "dfx.shape"
   ]
  },
  {
   "cell_type": "markdown",
   "id": "4d7a7377-2a3a-4833-a165-15d68f5699a4",
   "metadata": {
    "tags": []
   },
   "source": [
    "### Data as sparse matrix"
   ]
  },
  {
   "cell_type": "code",
   "execution_count": null,
   "id": "4fbdff85-e03d-4c88-9a28-16047dcf99ea",
   "metadata": {
    "scrolled": true
   },
   "outputs": [],
   "source": [
    "crime_matrix = csr_matrix(\n",
    "    (\n",
    "        dfx[:, 0],\n",
    "        (dfx[:, 1], dfx[:, 2])\n",
    "    ),\n",
    "    shape=(\n",
    "        dfx[:, 1].max() + 1,\n",
    "        dfx[:, 2].max() + 1\n",
    "    )\n",
    ")"
   ]
  },
  {
   "cell_type": "markdown",
   "id": "a10c2f3d-1c29-4038-afef-0dd0ccd05f53",
   "metadata": {
    "tags": []
   },
   "source": [
    "### Adjacency matrix"
   ]
  },
  {
   "cell_type": "code",
   "execution_count": null,
   "id": "18055988-8bd9-467e-b7a8-9c36c64b6b0b",
   "metadata": {
    "scrolled": true
   },
   "outputs": [],
   "source": [
    "A = crime_matrix*crime_matrix.T "
   ]
  },
  {
   "cell_type": "markdown",
   "id": "d11d3df4-e2f5-4cdf-8914-f277e9e36a6c",
   "metadata": {
    "tags": []
   },
   "source": [
    "#### Cleaning adjacency matrix"
   ]
  },
  {
   "cell_type": "code",
   "execution_count": null,
   "id": "72a0d3b7-9202-4c15-b0fc-1ff35d11da72",
   "metadata": {},
   "outputs": [],
   "source": [
    "## Eliminating self loops\n",
    "A.setdiag(0)\n",
    "\n",
    "## Eliminating zeros\n",
    "A.eliminate_zeros()"
   ]
  },
  {
   "cell_type": "markdown",
   "id": "10b235a5-256a-4399-9326-ae0369085153",
   "metadata": {
    "heading_collapsed": "true",
    "tags": []
   },
   "source": [
    "## Working with graph object"
   ]
  },
  {
   "cell_type": "markdown",
   "id": "a81befb8-a435-4104-b0aa-65bf869afc78",
   "metadata": {},
   "source": [
    "---"
   ]
  },
  {
   "cell_type": "markdown",
   "id": "e6c0b86d-dd57-4af4-9ea5-f8169fc5c289",
   "metadata": {
    "tags": []
   },
   "source": [
    "# Test run with base code (*Crime type* and *Municipality*)"
   ]
  },
  {
   "cell_type": "markdown",
   "id": "b84e43c6-8270-4df3-8e57-41df7add0cd6",
   "metadata": {
    "tags": []
   },
   "source": [
    "## Cleaning data"
   ]
  },
  {
   "cell_type": "markdown",
   "id": "4224e2ec-2071-4896-8570-0eee719db488",
   "metadata": {
    "tags": []
   },
   "source": [
    "### Eliminating duplicated rows"
   ]
  },
  {
   "cell_type": "code",
   "execution_count": 6,
   "id": "5c33d773-2043-4fe4-af4b-9153624a4885",
   "metadata": {},
   "outputs": [],
   "source": [
    "rc = [\"CrimeType1\", \"Municipality\"]"
   ]
  },
  {
   "cell_type": "code",
   "execution_count": 7,
   "id": "434a3988-5439-4e3b-8002-dea4ca8efc28",
   "metadata": {},
   "outputs": [],
   "source": [
    "dfxc = df.drop_duplicates(subset=rc).copy()"
   ]
  },
  {
   "cell_type": "code",
   "execution_count": 10,
   "id": "f98e1866-082a-4286-af18-79c602e5e63f",
   "metadata": {},
   "outputs": [
    {
     "name": "stdout",
     "output_type": "stream",
     "text": [
      "<class 'pandas.core.frame.DataFrame'>\n",
      "RangeIndex: 1280459 entries, 0 to 1280458\n",
      "Data columns (total 13 columns):\n",
      " #   Column                Non-Null Count    Dtype  \n",
      "---  ------                --------------    -----  \n",
      " 0   OffenderIdentifier    1280459 non-null  int64  \n",
      " 1   OffenderGender        1280459 non-null  object \n",
      " 2   CrimeIdentifier       1280459 non-null  int64  \n",
      " 3   CrimeType1            1279009 non-null  float64\n",
      " 4   CrimeType2            150352 non-null   float64\n",
      " 5   CrimeType3            30052 non-null    float64\n",
      " 6   CrimeType4            6926 non-null     float64\n",
      " 7   Municipality          1280459 non-null  int64  \n",
      " 8   CrimeLocation         1140448 non-null  float64\n",
      " 9   NumberYouthOffenders  1280459 non-null  int64  \n",
      " 10  NumberAdultOffenders  1280459 non-null  int64  \n",
      " 11  CrimeDate             1280459 non-null  object \n",
      " 12  CrimeYear             1280459 non-null  int64  \n",
      "dtypes: float64(5), int64(6), object(2)\n",
      "memory usage: 127.0+ MB\n"
     ]
    }
   ],
   "source": [
    "df.info()"
   ]
  },
  {
   "cell_type": "markdown",
   "id": "19cc4d1b-1db9-4a50-a2ab-fe4f8403050c",
   "metadata": {
    "tags": []
   },
   "source": [
    "### Reformatting columns for adjacent matrix"
   ]
  },
  {
   "cell_type": "code",
   "execution_count": 8,
   "id": "8be61a28-73e5-4935-b1a9-0422b4777412",
   "metadata": {},
   "outputs": [
    {
     "ename": "ValueError",
     "evalue": "Cannot convert float NaN to integer",
     "output_type": "error",
     "traceback": [
      "\u001b[0;31m---------\u001b[0m",
      "\u001b[0;31mValueError\u001b[0mTraceback (most recent call last)",
      "\u001b[0;32m<ipython-input-8-f0f92f8a5193>\u001b[0m in \u001b[0;36m<module>\u001b[0;34m\u001b[0m\n\u001b[1;32m      1\u001b[0m \u001b[0;32mfor\u001b[0m \u001b[0mcol\u001b[0m \u001b[0;32min\u001b[0m \u001b[0mrc\u001b[0m\u001b[0;34m:\u001b[0m\u001b[0;34m\u001b[0m\u001b[0;34m\u001b[0m\u001b[0m\n\u001b[0;32m----> 2\u001b[0;31m     \u001b[0mdfxc\u001b[0m\u001b[0;34m[\u001b[0m\u001b[0mcol\u001b[0m\u001b[0;34m]\u001b[0m \u001b[0;34m=\u001b[0m \u001b[0mdfxc\u001b[0m\u001b[0;34m[\u001b[0m\u001b[0mcol\u001b[0m\u001b[0;34m]\u001b[0m\u001b[0;34m.\u001b[0m\u001b[0mastype\u001b[0m\u001b[0;34m(\u001b[0m\u001b[0;34m\"category\"\u001b[0m\u001b[0;34m)\u001b[0m\u001b[0;34m.\u001b[0m\u001b[0mastype\u001b[0m\u001b[0;34m(\u001b[0m\u001b[0;34m\"int64\"\u001b[0m\u001b[0;34m)\u001b[0m\u001b[0;34m\u001b[0m\u001b[0;34m\u001b[0m\u001b[0m\n\u001b[0m",
      "\u001b[0;32m~/Documents/ReposRob_RobPer/ITAMmcd/semestre_2/Metodos_Analiticos_CD/Venv_MetAnaCD/lib/python3.8/site-packages/pandas/core/generic.py\u001b[0m in \u001b[0;36mastype\u001b[0;34m(self, dtype, copy, errors)\u001b[0m\n\u001b[1;32m   5875\u001b[0m         \u001b[0;32melse\u001b[0m\u001b[0;34m:\u001b[0m\u001b[0;34m\u001b[0m\u001b[0;34m\u001b[0m\u001b[0m\n\u001b[1;32m   5876\u001b[0m             \u001b[0;31m# else, only a single dtype is given\u001b[0m\u001b[0;34m\u001b[0m\u001b[0;34m\u001b[0m\u001b[0;34m\u001b[0m\u001b[0m\n\u001b[0;32m-> 5877\u001b[0;31m             \u001b[0mnew_data\u001b[0m \u001b[0;34m=\u001b[0m \u001b[0mself\u001b[0m\u001b[0;34m.\u001b[0m\u001b[0m_mgr\u001b[0m\u001b[0;34m.\u001b[0m\u001b[0mastype\u001b[0m\u001b[0;34m(\u001b[0m\u001b[0mdtype\u001b[0m\u001b[0;34m=\u001b[0m\u001b[0mdtype\u001b[0m\u001b[0;34m,\u001b[0m \u001b[0mcopy\u001b[0m\u001b[0;34m=\u001b[0m\u001b[0mcopy\u001b[0m\u001b[0;34m,\u001b[0m \u001b[0merrors\u001b[0m\u001b[0;34m=\u001b[0m\u001b[0merrors\u001b[0m\u001b[0;34m)\u001b[0m\u001b[0;34m\u001b[0m\u001b[0;34m\u001b[0m\u001b[0m\n\u001b[0m\u001b[1;32m   5878\u001b[0m             \u001b[0;32mreturn\u001b[0m \u001b[0mself\u001b[0m\u001b[0;34m.\u001b[0m\u001b[0m_constructor\u001b[0m\u001b[0;34m(\u001b[0m\u001b[0mnew_data\u001b[0m\u001b[0;34m)\u001b[0m\u001b[0;34m.\u001b[0m\u001b[0m__finalize__\u001b[0m\u001b[0;34m(\u001b[0m\u001b[0mself\u001b[0m\u001b[0;34m,\u001b[0m \u001b[0mmethod\u001b[0m\u001b[0;34m=\u001b[0m\u001b[0;34m\"astype\"\u001b[0m\u001b[0;34m)\u001b[0m\u001b[0;34m\u001b[0m\u001b[0;34m\u001b[0m\u001b[0m\n\u001b[1;32m   5879\u001b[0m \u001b[0;34m\u001b[0m\u001b[0m\n",
      "\u001b[0;32m~/Documents/ReposRob_RobPer/ITAMmcd/semestre_2/Metodos_Analiticos_CD/Venv_MetAnaCD/lib/python3.8/site-packages/pandas/core/internals/managers.py\u001b[0m in \u001b[0;36mastype\u001b[0;34m(self, dtype, copy, errors)\u001b[0m\n\u001b[1;32m    629\u001b[0m         \u001b[0mself\u001b[0m\u001b[0;34m,\u001b[0m \u001b[0mdtype\u001b[0m\u001b[0;34m,\u001b[0m \u001b[0mcopy\u001b[0m\u001b[0;34m:\u001b[0m \u001b[0mbool\u001b[0m \u001b[0;34m=\u001b[0m \u001b[0;32mFalse\u001b[0m\u001b[0;34m,\u001b[0m \u001b[0merrors\u001b[0m\u001b[0;34m:\u001b[0m \u001b[0mstr\u001b[0m \u001b[0;34m=\u001b[0m \u001b[0;34m\"raise\"\u001b[0m\u001b[0;34m\u001b[0m\u001b[0;34m\u001b[0m\u001b[0m\n\u001b[1;32m    630\u001b[0m     ) -> \"BlockManager\":\n\u001b[0;32m--> 631\u001b[0;31m         \u001b[0;32mreturn\u001b[0m \u001b[0mself\u001b[0m\u001b[0;34m.\u001b[0m\u001b[0mapply\u001b[0m\u001b[0;34m(\u001b[0m\u001b[0;34m\"astype\"\u001b[0m\u001b[0;34m,\u001b[0m \u001b[0mdtype\u001b[0m\u001b[0;34m=\u001b[0m\u001b[0mdtype\u001b[0m\u001b[0;34m,\u001b[0m \u001b[0mcopy\u001b[0m\u001b[0;34m=\u001b[0m\u001b[0mcopy\u001b[0m\u001b[0;34m,\u001b[0m \u001b[0merrors\u001b[0m\u001b[0;34m=\u001b[0m\u001b[0merrors\u001b[0m\u001b[0;34m)\u001b[0m\u001b[0;34m\u001b[0m\u001b[0;34m\u001b[0m\u001b[0m\n\u001b[0m\u001b[1;32m    632\u001b[0m \u001b[0;34m\u001b[0m\u001b[0m\n\u001b[1;32m    633\u001b[0m     def convert(\n",
      "\u001b[0;32m~/Documents/ReposRob_RobPer/ITAMmcd/semestre_2/Metodos_Analiticos_CD/Venv_MetAnaCD/lib/python3.8/site-packages/pandas/core/internals/managers.py\u001b[0m in \u001b[0;36mapply\u001b[0;34m(self, f, align_keys, ignore_failures, **kwargs)\u001b[0m\n\u001b[1;32m    425\u001b[0m                     \u001b[0mapplied\u001b[0m \u001b[0;34m=\u001b[0m \u001b[0mb\u001b[0m\u001b[0;34m.\u001b[0m\u001b[0mapply\u001b[0m\u001b[0;34m(\u001b[0m\u001b[0mf\u001b[0m\u001b[0;34m,\u001b[0m \u001b[0;34m**\u001b[0m\u001b[0mkwargs\u001b[0m\u001b[0;34m)\u001b[0m\u001b[0;34m\u001b[0m\u001b[0;34m\u001b[0m\u001b[0m\n\u001b[1;32m    426\u001b[0m                 \u001b[0;32melse\u001b[0m\u001b[0;34m:\u001b[0m\u001b[0;34m\u001b[0m\u001b[0;34m\u001b[0m\u001b[0m\n\u001b[0;32m--> 427\u001b[0;31m                     \u001b[0mapplied\u001b[0m \u001b[0;34m=\u001b[0m \u001b[0mgetattr\u001b[0m\u001b[0;34m(\u001b[0m\u001b[0mb\u001b[0m\u001b[0;34m,\u001b[0m \u001b[0mf\u001b[0m\u001b[0;34m)\u001b[0m\u001b[0;34m(\u001b[0m\u001b[0;34m**\u001b[0m\u001b[0mkwargs\u001b[0m\u001b[0;34m)\u001b[0m\u001b[0;34m\u001b[0m\u001b[0;34m\u001b[0m\u001b[0m\n\u001b[0m\u001b[1;32m    428\u001b[0m             \u001b[0;32mexcept\u001b[0m \u001b[0;34m(\u001b[0m\u001b[0mTypeError\u001b[0m\u001b[0;34m,\u001b[0m \u001b[0mNotImplementedError\u001b[0m\u001b[0;34m)\u001b[0m\u001b[0;34m:\u001b[0m\u001b[0;34m\u001b[0m\u001b[0;34m\u001b[0m\u001b[0m\n\u001b[1;32m    429\u001b[0m                 \u001b[0;32mif\u001b[0m \u001b[0;32mnot\u001b[0m \u001b[0mignore_failures\u001b[0m\u001b[0;34m:\u001b[0m\u001b[0;34m\u001b[0m\u001b[0;34m\u001b[0m\u001b[0m\n",
      "\u001b[0;32m~/Documents/ReposRob_RobPer/ITAMmcd/semestre_2/Metodos_Analiticos_CD/Venv_MetAnaCD/lib/python3.8/site-packages/pandas/core/internals/blocks.py\u001b[0m in \u001b[0;36mastype\u001b[0;34m(self, dtype, copy, errors)\u001b[0m\n\u001b[1;32m    646\u001b[0m         \u001b[0;32mif\u001b[0m \u001b[0mself\u001b[0m\u001b[0;34m.\u001b[0m\u001b[0mis_extension\u001b[0m\u001b[0;34m:\u001b[0m\u001b[0;34m\u001b[0m\u001b[0;34m\u001b[0m\u001b[0m\n\u001b[1;32m    647\u001b[0m             \u001b[0;32mtry\u001b[0m\u001b[0;34m:\u001b[0m\u001b[0;34m\u001b[0m\u001b[0;34m\u001b[0m\u001b[0m\n\u001b[0;32m--> 648\u001b[0;31m                 \u001b[0mvalues\u001b[0m \u001b[0;34m=\u001b[0m \u001b[0mself\u001b[0m\u001b[0;34m.\u001b[0m\u001b[0mvalues\u001b[0m\u001b[0;34m.\u001b[0m\u001b[0mastype\u001b[0m\u001b[0;34m(\u001b[0m\u001b[0mdtype\u001b[0m\u001b[0;34m)\u001b[0m\u001b[0;34m\u001b[0m\u001b[0;34m\u001b[0m\u001b[0m\n\u001b[0m\u001b[1;32m    649\u001b[0m             \u001b[0;32mexcept\u001b[0m \u001b[0;34m(\u001b[0m\u001b[0mValueError\u001b[0m\u001b[0;34m,\u001b[0m \u001b[0mTypeError\u001b[0m\u001b[0;34m)\u001b[0m\u001b[0;34m:\u001b[0m\u001b[0;34m\u001b[0m\u001b[0;34m\u001b[0m\u001b[0m\n\u001b[1;32m    650\u001b[0m                 \u001b[0;32mif\u001b[0m \u001b[0merrors\u001b[0m \u001b[0;34m==\u001b[0m \u001b[0;34m\"ignore\"\u001b[0m\u001b[0;34m:\u001b[0m\u001b[0;34m\u001b[0m\u001b[0;34m\u001b[0m\u001b[0m\n",
      "\u001b[0;32m~/Documents/ReposRob_RobPer/ITAMmcd/semestre_2/Metodos_Analiticos_CD/Venv_MetAnaCD/lib/python3.8/site-packages/pandas/core/arrays/categorical.py\u001b[0m in \u001b[0;36mastype\u001b[0;34m(self, dtype, copy)\u001b[0m\n\u001b[1;32m    420\u001b[0m \u001b[0;34m\u001b[0m\u001b[0m\n\u001b[1;32m    421\u001b[0m         \u001b[0;32melif\u001b[0m \u001b[0mis_integer_dtype\u001b[0m\u001b[0;34m(\u001b[0m\u001b[0mdtype\u001b[0m\u001b[0;34m)\u001b[0m \u001b[0;32mand\u001b[0m \u001b[0mself\u001b[0m\u001b[0;34m.\u001b[0m\u001b[0misna\u001b[0m\u001b[0;34m(\u001b[0m\u001b[0;34m)\u001b[0m\u001b[0;34m.\u001b[0m\u001b[0many\u001b[0m\u001b[0;34m(\u001b[0m\u001b[0;34m)\u001b[0m\u001b[0;34m:\u001b[0m\u001b[0;34m\u001b[0m\u001b[0;34m\u001b[0m\u001b[0m\n\u001b[0;32m--> 422\u001b[0;31m             \u001b[0;32mraise\u001b[0m \u001b[0mValueError\u001b[0m\u001b[0;34m(\u001b[0m\u001b[0;34m\"Cannot convert float NaN to integer\"\u001b[0m\u001b[0;34m)\u001b[0m\u001b[0;34m\u001b[0m\u001b[0;34m\u001b[0m\u001b[0m\n\u001b[0m\u001b[1;32m    423\u001b[0m \u001b[0;34m\u001b[0m\u001b[0m\n\u001b[1;32m    424\u001b[0m         \u001b[0;32melif\u001b[0m \u001b[0mlen\u001b[0m\u001b[0;34m(\u001b[0m\u001b[0mself\u001b[0m\u001b[0;34m.\u001b[0m\u001b[0mcodes\u001b[0m\u001b[0;34m)\u001b[0m \u001b[0;34m==\u001b[0m \u001b[0;36m0\u001b[0m \u001b[0;32mor\u001b[0m \u001b[0mlen\u001b[0m\u001b[0;34m(\u001b[0m\u001b[0mself\u001b[0m\u001b[0;34m.\u001b[0m\u001b[0mcategories\u001b[0m\u001b[0;34m)\u001b[0m \u001b[0;34m==\u001b[0m \u001b[0;36m0\u001b[0m\u001b[0;34m:\u001b[0m\u001b[0;34m\u001b[0m\u001b[0;34m\u001b[0m\u001b[0m\n",
      "\u001b[0;31mValueError\u001b[0m: Cannot convert float NaN to integer"
     ]
    }
   ],
   "source": [
    "for col in rc:\n",
    "    dfxc[col] = dfxc[col].astype(\"category\").astype(\"int64\")"
   ]
  },
  {
   "cell_type": "markdown",
   "id": "96a5075e-3f7a-43f5-9981-b3252dcc772d",
   "metadata": {
    "tags": []
   },
   "source": [
    "### Reindexing selected variables"
   ]
  },
  {
   "cell_type": "code",
   "execution_count": 6,
   "id": "82a015fb-ea51-4b7b-b448-b64fd5c9a3a6",
   "metadata": {},
   "outputs": [],
   "source": [
    "dfxc[\"Crimen\"] = pd.factorize(dfxc[\"CrimeIdentifier\"])[0]\n",
    "dfxc[\"Criminales\"] = pd.factorize(dfxc[\"OffenderIdentifier\"])[0]"
   ]
  },
  {
   "cell_type": "markdown",
   "id": "e63524fb-6e7d-43a2-b1e4-2526d1508ce6",
   "metadata": {},
   "source": [
    "---"
   ]
  },
  {
   "cell_type": "markdown",
   "id": "91c54d72-c684-486b-97b2-cba9ca37d856",
   "metadata": {
    "tags": []
   },
   "source": [
    "# Creating matrix for analysis"
   ]
  },
  {
   "cell_type": "markdown",
   "id": "2ac93145-df2b-4e0c-8ba7-d9671bc3467a",
   "metadata": {},
   "source": [
    "## Converting to numpy array and creating simplified matrix"
   ]
  },
  {
   "cell_type": "code",
   "execution_count": 7,
   "id": "51107f02-084c-4a2c-aeaf-d26506c58452",
   "metadata": {},
   "outputs": [
    {
     "data": {
      "text/plain": [
       "(1279987, 3)"
      ]
     },
     "execution_count": 7,
     "metadata": {},
     "output_type": "execute_result"
    }
   ],
   "source": [
    "column = np.array(dfxc[\"Crimen\"]) \n",
    "row = np.array(dfxc[\"Criminales\"])\n",
    "\n",
    "dfxc[['Criminales','Crimen']]\n",
    "\n",
    "dfxf = np.column_stack([np.ones((dfxc.shape[0]), dtype=int), row, column])\n",
    "dfxf.shape"
   ]
  },
  {
   "cell_type": "markdown",
   "id": "617e91cd-e23b-46bb-ac5c-3cd2d0f433be",
   "metadata": {
    "tags": []
   },
   "source": [
    "## Generating adjacency matrix"
   ]
  },
  {
   "cell_type": "markdown",
   "id": "48b827c7-e9a9-4087-b34c-ffb936d23363",
   "metadata": {},
   "source": [
    "### Data with sparse matrix"
   ]
  },
  {
   "cell_type": "code",
   "execution_count": 8,
   "id": "b4c03d39-bb78-40ec-9646-22919374ef60",
   "metadata": {},
   "outputs": [],
   "source": [
    "crime_matrix = csr_matrix(\n",
    "    (dfxf[:, 0], (dfxf[:, 1], dfxf[:, 2])),\n",
    "    shape=(row.max() + 1, dfxf[:, 2].max() + 1)\n",
    ")"
   ]
  },
  {
   "cell_type": "markdown",
   "id": "3c6a981f-cfd5-4662-9625-6d8780c5a43a",
   "metadata": {
    "tags": []
   },
   "source": [
    "### Adjacency matrix"
   ]
  },
  {
   "cell_type": "code",
   "execution_count": 9,
   "id": "a53cc9b4-cf12-4b38-b5f1-73420801a15c",
   "metadata": {},
   "outputs": [],
   "source": [
    "A = crime_matrix*crime_matrix.T"
   ]
  },
  {
   "cell_type": "markdown",
   "id": "a50dd140-25bd-4764-ae6e-ed565cc580e4",
   "metadata": {},
   "source": [
    "---"
   ]
  },
  {
   "cell_type": "markdown",
   "id": "87dbb546-2c43-45ff-ab4e-189cfbdf703f",
   "metadata": {
    "tags": []
   },
   "source": [
    "# Creating Graph object"
   ]
  },
  {
   "cell_type": "markdown",
   "id": "e954fe04-e2c0-4ee5-8797-1645e53c4b0c",
   "metadata": {},
   "source": [
    "## Eliminating self loops\n"
   ]
  },
  {
   "cell_type": "code",
   "execution_count": 10,
   "id": "1a83f9ff-eefd-4547-9634-9bff22615343",
   "metadata": {},
   "outputs": [],
   "source": [
    "A.setdiag(0)"
   ]
  },
  {
   "cell_type": "markdown",
   "id": "3e26a63b-248a-4827-94ea-178963cab6d3",
   "metadata": {},
   "source": [
    "## Eliminate zeros\n",
    "- Keeping only data with common crimes"
   ]
  },
  {
   "cell_type": "code",
   "execution_count": 11,
   "id": "8f7c6413-873a-413c-8aaa-648a76343949",
   "metadata": {},
   "outputs": [],
   "source": [
    "A.eliminate_zeros()"
   ]
  },
  {
   "cell_type": "markdown",
   "id": "b7f438a1-7c6d-440c-a514-020334657347",
   "metadata": {},
   "source": [
    "## Creating graph and editing graph"
   ]
  },
  {
   "cell_type": "markdown",
   "id": "2664d0b6-b689-4173-ab6e-7df8c1dfba3b",
   "metadata": {},
   "source": [
    "### Generate graph"
   ]
  },
  {
   "cell_type": "code",
   "execution_count": 12,
   "id": "c13f8c44-3d67-4455-a56b-af7869ad27ef",
   "metadata": {},
   "outputs": [],
   "source": [
    "G = nx.from_scipy_sparse_matrix(A)"
   ]
  },
  {
   "cell_type": "markdown",
   "id": "90317447-4470-40c5-9f4b-1b831c674c0c",
   "metadata": {},
   "source": [
    "### Eliminate nodes without edges"
   ]
  },
  {
   "cell_type": "code",
   "execution_count": 13,
   "id": "67dca3a2-c790-4298-87d3-a26bc7d8f6f2",
   "metadata": {},
   "outputs": [],
   "source": [
    "G.remove_nodes_from(list(nx.isolates(G))) #len(list(nx.isolates(G)))"
   ]
  },
  {
   "cell_type": "markdown",
   "id": "435fa965-05a1-491b-95b4-e77d32675cce",
   "metadata": {},
   "source": [
    "# Exploring graph object"
   ]
  },
  {
   "cell_type": "markdown",
   "id": "f31892be-8ed8-4f6f-bf48-4b7f1ffb0e49",
   "metadata": {},
   "source": [
    "## Initial graph data"
   ]
  },
  {
   "cell_type": "code",
   "execution_count": 14,
   "id": "11094940-67d9-4b81-bddb-1f1245716f9a",
   "metadata": {},
   "outputs": [
    {
     "data": {
      "text/plain": [
       "121159"
      ]
     },
     "execution_count": 14,
     "metadata": {},
     "output_type": "execute_result"
    }
   ],
   "source": [
    "G.number_of_nodes()"
   ]
  },
  {
   "cell_type": "code",
   "execution_count": 15,
   "id": "abc8f92f-e1de-4b08-ade2-d956115a5cc3",
   "metadata": {},
   "outputs": [
    {
     "data": {
      "text/plain": [
       "178413"
      ]
     },
     "execution_count": 15,
     "metadata": {},
     "output_type": "execute_result"
    }
   ],
   "source": [
    "G.number_of_edges()"
   ]
  },
  {
   "cell_type": "markdown",
   "id": "8bdb65e0-1035-4495-9ba5-6e36e052c504",
   "metadata": {},
   "source": [
    "## Histogram with cluster's coefficient"
   ]
  },
  {
   "cell_type": "code",
   "execution_count": 16,
   "id": "99e13bf5-722c-46f0-bbe8-596ea3cc3560",
   "metadata": {},
   "outputs": [
    {
     "data": {
      "text/plain": [
       "(array([72832.,  1535.,  1345.,  4035.,  1116.,  1919.,  1005.,   313.,\n",
       "          361., 36698.]),\n",
       " array([0. , 0.1, 0.2, 0.3, 0.4, 0.5, 0.6, 0.7, 0.8, 0.9, 1. ]),\n",
       " <BarContainer object of 10 artists>)"
      ]
     },
     "execution_count": 16,
     "metadata": {},
     "output_type": "execute_result"
    },
    {
     "data": {
      "image/png": "[encoded data removed]",
      "text/plain": [
       "<Figure size 432x288 with 1 Axes>"
      ]
     },
     "metadata": {
      "needs_background": "light"
     },
     "output_type": "display_data"
    }
   ],
   "source": [
    "data = list(nx.clustering(G).items())\n",
    "H = np.array(data)\n",
    "\n",
    "plt.hist(H[:, 1])"
   ]
  },
  {
   "cell_type": "markdown",
   "id": "cb1f489f-09ab-4b8e-932c-c7c9d0dfb29f",
   "metadata": {},
   "source": [
    "## Filtering connections with high weights"
   ]
  },
  {
   "cell_type": "markdown",
   "id": "cd218524-722d-44f5-80ed-fb79a6493f27",
   "metadata": {},
   "source": [
    "### Creating new graph object"
   ]
  },
  {
   "cell_type": "code",
   "execution_count": 17,
   "id": "b14e17e9-8b20-42f4-87cb-9ea0f4dac218",
   "metadata": {},
   "outputs": [],
   "source": [
    "Gf = nx.from_scipy_sparse_matrix(A)\n",
    "Gf.remove_nodes_from(list(nx.isolates(G)))"
   ]
  },
  {
   "cell_type": "markdown",
   "id": "313bc5dc-732a-4396-a685-6f69ca8125bd",
   "metadata": {},
   "source": [
    "### Removing all nodes with less edges than the value specified"
   ]
  },
  {
   "cell_type": "code",
   "execution_count": 18,
   "id": "ed30f5e6-b772-40a5-8d3a-9336b401943b",
   "metadata": {},
   "outputs": [],
   "source": [
    "threshold = 2"
   ]
  },
  {
   "cell_type": "code",
   "execution_count": 19,
   "id": "65e40764-c8c9-486c-b63a-bbd3e4f833f9",
   "metadata": {},
   "outputs": [],
   "source": [
    "Gf_edges = list(Gf.edges())\n",
    "Gf_edges_weight = nx.get_edge_attributes(Gf, \"weight\")\n",
    "\n",
    "for e in Gf_edges:\n",
    "    if Gf_edges_weight[e] < threshold:\n",
    "        Gf.remove_edge(e[0], e[1])\n",
    "        "
   ]
  },
  {
   "cell_type": "code",
   "execution_count": 20,
   "id": "56f5010f-2134-46ed-81d5-dc90b110bbc9",
   "metadata": {},
   "outputs": [],
   "source": [
    "Gf.remove_nodes_from(list(nx.isolates(Gf)))"
   ]
  },
  {
   "cell_type": "code",
   "execution_count": 21,
   "id": "b5fdd651-dba3-4b66-bca8-9cc859cd8109",
   "metadata": {},
   "outputs": [
    {
     "data": {
      "text/plain": [
       "17764"
      ]
     },
     "execution_count": 21,
     "metadata": {},
     "output_type": "execute_result"
    }
   ],
   "source": [
    "Gf.number_of_nodes()"
   ]
  },
  {
   "cell_type": "markdown",
   "id": "9e10f27f-a99f-43a0-88cc-75c2959df022",
   "metadata": {},
   "source": [
    "## Network graph"
   ]
  },
  {
   "cell_type": "code",
   "execution_count": null,
   "id": "408d5743-7032-4b5b-984c-0ee85efa2f15",
   "metadata": {},
   "outputs": [],
   "source": [
    "nx.draw(\n",
    "    Gf,\n",
    "    pos=nx.drawing.nx_agraph.graphviz_layout(Gf),\n",
    "    with_labels=True\n",
    ")"
   ]
  },
  {
   "cell_type": "markdown",
   "id": "ca705160-3428-4b30-9d84-315a725e3e79",
   "metadata": {},
   "source": [
    "---"
   ]
  },
  {
   "cell_type": "markdown",
   "id": "785cfdbd-6e35-4264-8b5c-0a1291ba901a",
   "metadata": {},
   "source": [
    "---\n",
    "---"
   ]
  }
 ],
 "metadata": {
  "kernelspec": {
   "display_name": "Python 3",
   "language": "python",
   "name": "python3"
  },
  "language_info": {
   "codemirror_mode": {
    "name": "ipython",
    "version": 3
   },
   "file_extension": ".py",
   "mimetype": "text/x-python",
   "name": "python",
   "nbconvert_exporter": "python",
   "pygments_lexer": "ipython3",
   "version": "3.8.6"
  }
 },
 "nbformat": 4,
 "nbformat_minor": 5
}
