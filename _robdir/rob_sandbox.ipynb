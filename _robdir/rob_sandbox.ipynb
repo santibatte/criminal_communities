{
 "cells": [
  {
   "cell_type": "markdown",
   "id": "c74833a1-bf51-419a-88ac-1160a74c64bc",
   "metadata": {
    "heading_collapsed": "true",
    "tags": []
   },
   "source": [
    "# Rob Sandbox\n",
    "- Tests and trials developed by Rob"
   ]
  },
  {
   "cell_type": "markdown",
   "id": "68a43797-1f1c-4803-8945-04d8b0a0eda7",
   "metadata": {
    "tags": []
   },
   "source": [
    "# Imports"
   ]
  },
  {
   "cell_type": "markdown",
   "id": "19e08dd8-3654-4056-b56f-feb7886f38c5",
   "metadata": {
    "tags": []
   },
   "source": [
    "#### Standard library imports"
   ]
  },
  {
   "cell_type": "markdown",
   "id": "ed7a334a-8ad0-484c-b6ba-f3504ad80e98",
   "metadata": {},
   "source": [
    "#### Local application imports"
   ]
  },
  {
   "cell_type": "markdown",
   "id": "a9b7ba54-949d-4fe0-902e-d1a346fb06d0",
   "metadata": {
    "tags": []
   },
   "source": [
    "#### Third party imports"
   ]
  },
  {
   "cell_type": "code",
   "execution_count": 1,
   "id": "51b63d3a-ec39-4707-bedd-2efe3b289838",
   "metadata": {},
   "outputs": [],
   "source": [
    "import pandas as pd\n",
    "\n",
    "import numpy as np\n",
    "\n",
    "import networkx as nx\n",
    "\n",
    "import scipy.sparse\n",
    "from scipy.sparse import csr_matrix\n",
    "\n",
    "import matplotlib.pyplot as plt"
   ]
  },
  {
   "cell_type": "markdown",
   "id": "5285c205-fe9d-46f6-a600-5c9412fdd426",
   "metadata": {
    "tags": []
   },
   "source": [
    "# Reading and cleaning data "
   ]
  },
  {
   "cell_type": "markdown",
   "id": "a922c45c-143f-4b21-b39f-fc561c9b7769",
   "metadata": {
    "tags": []
   },
   "source": [
    "## Reading data from csv"
   ]
  },
  {
   "cell_type": "code",
   "execution_count": 2,
   "id": "e744fcad-2158-4352-8f7a-338057c05674",
   "metadata": {},
   "outputs": [],
   "source": [
    "dfx = pd.read_csv(\"Cooffending.csv\")"
   ]
  },
  {
   "cell_type": "code",
   "execution_count": 3,
   "id": "435a2c6f-d522-47c3-9352-a8cb73c0d002",
   "metadata": {},
   "outputs": [
    {
     "data": {
      "text/html": [
       "<div>\n",
       "<style scoped>\n",
       "    .dataframe tbody tr th:only-of-type {\n",
       "        vertical-align: middle;\n",
       "    }\n",
       "\n",
       "    .dataframe tbody tr th {\n",
       "        vertical-align: top;\n",
       "    }\n",
       "\n",
       "    .dataframe thead th {\n",
       "        text-align: right;\n",
       "    }\n",
       "</style>\n",
       "<table border=\"1\" class=\"dataframe\">\n",
       "  <thead>\n",
       "    <tr style=\"text-align: right;\">\n",
       "      <th></th>\n",
       "      <th>OffenderIdentifier</th>\n",
       "      <th>OffenderGender</th>\n",
       "      <th>CrimeIdentifier</th>\n",
       "      <th>CrimeType1</th>\n",
       "      <th>CrimeType2</th>\n",
       "      <th>CrimeType3</th>\n",
       "      <th>CrimeType4</th>\n",
       "      <th>Municipality</th>\n",
       "      <th>CrimeLocation</th>\n",
       "      <th>NumberYouthOffenders</th>\n",
       "      <th>NumberAdultOffenders</th>\n",
       "      <th>CrimeDate</th>\n",
       "      <th>CrimeYear</th>\n",
       "    </tr>\n",
       "  </thead>\n",
       "  <tbody>\n",
       "    <tr>\n",
       "      <th>0</th>\n",
       "      <td>1</td>\n",
       "      <td>F</td>\n",
       "      <td>1085034</td>\n",
       "      <td>3530.0</td>\n",
       "      <td>NaN</td>\n",
       "      <td>NaN</td>\n",
       "      <td>NaN</td>\n",
       "      <td>58227</td>\n",
       "      <td>2.0</td>\n",
       "      <td>0</td>\n",
       "      <td>1</td>\n",
       "      <td>12/17/2005</td>\n",
       "      <td>2005</td>\n",
       "    </tr>\n",
       "    <tr>\n",
       "      <th>1</th>\n",
       "      <td>2</td>\n",
       "      <td>F</td>\n",
       "      <td>1431379</td>\n",
       "      <td>1430.0</td>\n",
       "      <td>NaN</td>\n",
       "      <td>NaN</td>\n",
       "      <td>NaN</td>\n",
       "      <td>94068</td>\n",
       "      <td>5.0</td>\n",
       "      <td>0</td>\n",
       "      <td>1</td>\n",
       "      <td>04/23/2008</td>\n",
       "      <td>2008</td>\n",
       "    </tr>\n",
       "    <tr>\n",
       "      <th>2</th>\n",
       "      <td>4</td>\n",
       "      <td>M</td>\n",
       "      <td>167174</td>\n",
       "      <td>1430.0</td>\n",
       "      <td>21702.0</td>\n",
       "      <td>NaN</td>\n",
       "      <td>NaN</td>\n",
       "      <td>49058</td>\n",
       "      <td>2.0</td>\n",
       "      <td>0</td>\n",
       "      <td>1</td>\n",
       "      <td>03/06/2008</td>\n",
       "      <td>2008</td>\n",
       "    </tr>\n",
       "    <tr>\n",
       "      <th>3</th>\n",
       "      <td>5</td>\n",
       "      <td>M</td>\n",
       "      <td>1179096</td>\n",
       "      <td>1420.0</td>\n",
       "      <td>NaN</td>\n",
       "      <td>NaN</td>\n",
       "      <td>NaN</td>\n",
       "      <td>65005</td>\n",
       "      <td>71.0</td>\n",
       "      <td>0</td>\n",
       "      <td>1</td>\n",
       "      <td>08/21/2008</td>\n",
       "      <td>2008</td>\n",
       "    </tr>\n",
       "    <tr>\n",
       "      <th>4</th>\n",
       "      <td>17</td>\n",
       "      <td>M</td>\n",
       "      <td>1270690</td>\n",
       "      <td>1625.0</td>\n",
       "      <td>NaN</td>\n",
       "      <td>NaN</td>\n",
       "      <td>NaN</td>\n",
       "      <td>23027</td>\n",
       "      <td>NaN</td>\n",
       "      <td>0</td>\n",
       "      <td>3</td>\n",
       "      <td>04/30/2003</td>\n",
       "      <td>2003</td>\n",
       "    </tr>\n",
       "    <tr>\n",
       "      <th>...</th>\n",
       "      <td>...</td>\n",
       "      <td>...</td>\n",
       "      <td>...</td>\n",
       "      <td>...</td>\n",
       "      <td>...</td>\n",
       "      <td>...</td>\n",
       "      <td>...</td>\n",
       "      <td>...</td>\n",
       "      <td>...</td>\n",
       "      <td>...</td>\n",
       "      <td>...</td>\n",
       "      <td>...</td>\n",
       "      <td>...</td>\n",
       "    </tr>\n",
       "    <tr>\n",
       "      <th>1280454</th>\n",
       "      <td>670532</td>\n",
       "      <td>F</td>\n",
       "      <td>1112491</td>\n",
       "      <td>1330.0</td>\n",
       "      <td>NaN</td>\n",
       "      <td>NaN</td>\n",
       "      <td>NaN</td>\n",
       "      <td>58227</td>\n",
       "      <td>34.0</td>\n",
       "      <td>0</td>\n",
       "      <td>1</td>\n",
       "      <td>03/26/2009</td>\n",
       "      <td>2009</td>\n",
       "    </tr>\n",
       "    <tr>\n",
       "      <th>1280455</th>\n",
       "      <td>670533</td>\n",
       "      <td>M</td>\n",
       "      <td>78081</td>\n",
       "      <td>21702.0</td>\n",
       "      <td>NaN</td>\n",
       "      <td>NaN</td>\n",
       "      <td>NaN</td>\n",
       "      <td>46075</td>\n",
       "      <td>10.0</td>\n",
       "      <td>0</td>\n",
       "      <td>4</td>\n",
       "      <td>06/29/2009</td>\n",
       "      <td>2009</td>\n",
       "    </tr>\n",
       "    <tr>\n",
       "      <th>1280456</th>\n",
       "      <td>670534</td>\n",
       "      <td>M</td>\n",
       "      <td>187904</td>\n",
       "      <td>21201.0</td>\n",
       "      <td>21702.0</td>\n",
       "      <td>NaN</td>\n",
       "      <td>NaN</td>\n",
       "      <td>31015</td>\n",
       "      <td>1.0</td>\n",
       "      <td>0</td>\n",
       "      <td>4</td>\n",
       "      <td>03/16/2009</td>\n",
       "      <td>2009</td>\n",
       "    </tr>\n",
       "    <tr>\n",
       "      <th>1280457</th>\n",
       "      <td>670535</td>\n",
       "      <td>M</td>\n",
       "      <td>523837</td>\n",
       "      <td>21704.0</td>\n",
       "      <td>NaN</td>\n",
       "      <td>NaN</td>\n",
       "      <td>NaN</td>\n",
       "      <td>98806</td>\n",
       "      <td>1.0</td>\n",
       "      <td>0</td>\n",
       "      <td>1</td>\n",
       "      <td>10/18/2009</td>\n",
       "      <td>2009</td>\n",
       "    </tr>\n",
       "    <tr>\n",
       "      <th>1280458</th>\n",
       "      <td>670536</td>\n",
       "      <td>M</td>\n",
       "      <td>1632652</td>\n",
       "      <td>21101.0</td>\n",
       "      <td>NaN</td>\n",
       "      <td>NaN</td>\n",
       "      <td>NaN</td>\n",
       "      <td>97802</td>\n",
       "      <td>1.0</td>\n",
       "      <td>0</td>\n",
       "      <td>2</td>\n",
       "      <td>11/24/2008</td>\n",
       "      <td>2008</td>\n",
       "    </tr>\n",
       "  </tbody>\n",
       "</table>\n",
       "<p>1280459 rows × 13 columns</p>\n",
       "</div>"
      ],
      "text/plain": [
       "         OffenderIdentifier OffenderGender  CrimeIdentifier  CrimeType1  \\\n",
       "0                         1              F          1085034      3530.0   \n",
       "1                         2              F          1431379      1430.0   \n",
       "2                         4              M           167174      1430.0   \n",
       "3                         5              M          1179096      1420.0   \n",
       "4                        17              M          1270690      1625.0   \n",
       "...                     ...            ...              ...         ...   \n",
       "1280454              670532              F          1112491      1330.0   \n",
       "1280455              670533              M            78081     21702.0   \n",
       "1280456              670534              M           187904     21201.0   \n",
       "1280457              670535              M           523837     21704.0   \n",
       "1280458              670536              M          1632652     21101.0   \n",
       "\n",
       "         CrimeType2  CrimeType3  CrimeType4  Municipality  CrimeLocation  \\\n",
       "0               NaN         NaN         NaN         58227            2.0   \n",
       "1               NaN         NaN         NaN         94068            5.0   \n",
       "2           21702.0         NaN         NaN         49058            2.0   \n",
       "3               NaN         NaN         NaN         65005           71.0   \n",
       "4               NaN         NaN         NaN         23027            NaN   \n",
       "...             ...         ...         ...           ...            ...   \n",
       "1280454         NaN         NaN         NaN         58227           34.0   \n",
       "1280455         NaN         NaN         NaN         46075           10.0   \n",
       "1280456     21702.0         NaN         NaN         31015            1.0   \n",
       "1280457         NaN         NaN         NaN         98806            1.0   \n",
       "1280458         NaN         NaN         NaN         97802            1.0   \n",
       "\n",
       "         NumberYouthOffenders  NumberAdultOffenders   CrimeDate  CrimeYear  \n",
       "0                           0                     1  12/17/2005       2005  \n",
       "1                           0                     1  04/23/2008       2008  \n",
       "2                           0                     1  03/06/2008       2008  \n",
       "3                           0                     1  08/21/2008       2008  \n",
       "4                           0                     3  04/30/2003       2003  \n",
       "...                       ...                   ...         ...        ...  \n",
       "1280454                     0                     1  03/26/2009       2009  \n",
       "1280455                     0                     4  06/29/2009       2009  \n",
       "1280456                     0                     4  03/16/2009       2009  \n",
       "1280457                     0                     1  10/18/2009       2009  \n",
       "1280458                     0                     2  11/24/2008       2008  \n",
       "\n",
       "[1280459 rows x 13 columns]"
      ]
     },
     "execution_count": 3,
     "metadata": {},
     "output_type": "execute_result"
    }
   ],
   "source": [
    "dfx"
   ]
  },
  {
   "cell_type": "markdown",
   "id": "90224e1e-86e8-44b7-af53-3bf0b361c617",
   "metadata": {
    "tags": []
   },
   "source": [
    "## Cleaning data"
   ]
  },
  {
   "cell_type": "markdown",
   "id": "1530c672-d4aa-40ce-9e89-058f57844838",
   "metadata": {
    "tags": []
   },
   "source": [
    "### Eliminating duplicated rows"
   ]
  },
  {
   "cell_type": "code",
   "execution_count": null,
   "id": "c44dc480-6b17-486d-b1f4-6efedc5fb659",
   "metadata": {},
   "outputs": [],
   "source": [
    "dfxc = dfx.drop_duplicates(subset =[\"OffenderIdentifier\", \"CrimeIdentifier\"]).copy()"
   ]
  },
  {
   "cell_type": "markdown",
   "id": "be452ae1-95f1-4d3c-8ccb-c8ccdf6d966b",
   "metadata": {
    "tags": []
   },
   "source": [
    "### Reformatting columns for adjacent matrix"
   ]
  },
  {
   "cell_type": "code",
   "execution_count": null,
   "id": "826c7715-e196-4783-9076-39f0abbc84ce",
   "metadata": {},
   "outputs": [],
   "source": [
    "for col in ['CrimeIdentifier', 'OffenderIdentifier']:\n",
    "    dfxc[col] = dfxc[col].astype(\"category\").astype(\"int64\")"
   ]
  },
  {
   "cell_type": "markdown",
   "id": "377f2a3d-1b30-4a25-be19-91618817cc9f",
   "metadata": {
    "tags": []
   },
   "source": [
    "### Reindexing selected variables"
   ]
  },
  {
   "cell_type": "code",
   "execution_count": null,
   "id": "7445b31b-23c4-4fc0-8c52-ab6f818f5f0e",
   "metadata": {},
   "outputs": [],
   "source": [
    "dfxc[\"Crimen\"] = pd.factorize(dfxc[\"CrimeIdentifier\"])[0]\n",
    "dfxc[\"Criminales\"] = pd.factorize(dfxc[\"OffenderIdentifier\"])[0]"
   ]
  },
  {
   "cell_type": "markdown",
   "id": "5e105aa0-7e92-4ab5-80f7-5af08ff3a515",
   "metadata": {},
   "source": [
    "---"
   ]
  },
  {
   "cell_type": "markdown",
   "id": "075f6639-8e33-457d-8c8a-b465dd92ed29",
   "metadata": {
    "tags": []
   },
   "source": [
    "# Creating matrix for analysis"
   ]
  },
  {
   "cell_type": "markdown",
   "id": "f45fdfd3-83f2-4233-808f-6bdb935ae821",
   "metadata": {},
   "source": [
    "## Converting to numpy array and creating simplified matrix"
   ]
  },
  {
   "cell_type": "code",
   "execution_count": null,
   "id": "a8fe451f-d560-422f-a214-2fa2a6421634",
   "metadata": {},
   "outputs": [],
   "source": [
    "column = np.array(dfxc[\"Crimen\"]) \n",
    "row = np.array(dfxc[\"Criminales\"])\n",
    "\n",
    "dfxc[['Criminales','Crimen']]\n",
    "\n",
    "dfxf = np.column_stack([np.ones((dfxc.shape[0]), dtype=int), row, column])\n",
    "dfxf.shape"
   ]
  },
  {
   "cell_type": "markdown",
   "id": "0a5ae8fd-d5a5-40e4-b784-3180922a3cf3",
   "metadata": {
    "tags": []
   },
   "source": [
    "## Generating adjacency matrix"
   ]
  },
  {
   "cell_type": "markdown",
   "id": "22788e84-a162-48ea-8087-3b8a5873ac8b",
   "metadata": {},
   "source": [
    "### Data with sparse matrix"
   ]
  },
  {
   "cell_type": "code",
   "execution_count": null,
   "id": "518e5129-c4dc-44bb-acd7-292895d409f9",
   "metadata": {},
   "outputs": [],
   "source": [
    "crime_matrix = csr_matrix(\n",
    "    (dfxf[:, 0], (dfxf[:, 1], dfxf[:, 2])),\n",
    "    shape=(row.max() + 1, dfxf[:, 2].max() + 1)\n",
    ")"
   ]
  },
  {
   "cell_type": "markdown",
   "id": "4833a080-5c3c-4d7c-896f-0ae2ec86fbe4",
   "metadata": {
    "tags": []
   },
   "source": [
    "### Adjacency matrix"
   ]
  },
  {
   "cell_type": "code",
   "execution_count": null,
   "id": "07b49a52-f1bd-4e75-bfd9-6e8fdcf89a98",
   "metadata": {},
   "outputs": [],
   "source": [
    "A = crime_matrix*crime_matrix.T"
   ]
  },
  {
   "cell_type": "markdown",
   "id": "321d86ab-c672-466a-8ea8-33a49a73b526",
   "metadata": {},
   "source": [
    "---"
   ]
  },
  {
   "cell_type": "markdown",
   "id": "9897a2f6-146a-450d-aed7-0c13c7ccf8ef",
   "metadata": {
    "tags": []
   },
   "source": [
    "# Creating Graph object"
   ]
  },
  {
   "cell_type": "markdown",
   "id": "0b18ffce-be9a-4c51-8eed-2be78ad9ca84",
   "metadata": {},
   "source": [
    "## Eliminating self loops\n"
   ]
  },
  {
   "cell_type": "code",
   "execution_count": null,
   "id": "da7a6d75-c63a-462d-9b68-150937a2ab85",
   "metadata": {},
   "outputs": [],
   "source": [
    "A.setdiag(0)"
   ]
  },
  {
   "cell_type": "markdown",
   "id": "67d695a0-45f5-4b9e-9bbc-6740f3e3b55a",
   "metadata": {},
   "source": [
    "## Eliminate zeros\n",
    "- Keeping only data with common crimes"
   ]
  },
  {
   "cell_type": "code",
   "execution_count": null,
   "id": "a9d8a814-5c9c-49f7-b485-ca8ce2da29fb",
   "metadata": {},
   "outputs": [],
   "source": [
    "A.eliminate_zeros()"
   ]
  },
  {
   "cell_type": "markdown",
   "id": "0ede1395-b421-4899-9bac-1f2e169bd94e",
   "metadata": {},
   "source": [
    "## Creating graph and editing graph"
   ]
  },
  {
   "cell_type": "markdown",
   "id": "8aea678d-a223-4860-ac6c-2aed02a639ea",
   "metadata": {},
   "source": [
    "### Generate graph"
   ]
  },
  {
   "cell_type": "code",
   "execution_count": null,
   "id": "4cfd020b-0f5c-490d-b73b-4fbfccf65a16",
   "metadata": {},
   "outputs": [],
   "source": [
    "G = nx.from_scipy_sparse_matrix(A)"
   ]
  },
  {
   "cell_type": "markdown",
   "id": "277913d5-9155-4e1a-ac40-d28700e8e15b",
   "metadata": {},
   "source": [
    "### Eliminate nodes without edges"
   ]
  },
  {
   "cell_type": "code",
   "execution_count": null,
   "id": "7d4649c8-15a9-4be8-a508-d3245577b123",
   "metadata": {},
   "outputs": [],
   "source": [
    "G.remove_nodes_from(list(nx.isolates(G))) #len(list(nx.isolates(G)))"
   ]
  },
  {
   "cell_type": "markdown",
   "id": "42c5b28d-4b8b-4bff-b5cf-264c8ad8f7fc",
   "metadata": {},
   "source": [
    "# Exploring graph object"
   ]
  },
  {
   "cell_type": "markdown",
   "id": "1a4fa2e5-f8c2-4b97-b0ae-7d35c92936aa",
   "metadata": {},
   "source": [
    "## Initial graph data"
   ]
  },
  {
   "cell_type": "code",
   "execution_count": null,
   "id": "0797e588-ec70-410b-a661-7f0fe40f7475",
   "metadata": {},
   "outputs": [],
   "source": [
    "G.number_of_nodes()"
   ]
  },
  {
   "cell_type": "code",
   "execution_count": null,
   "id": "963440b8-73cb-4d43-8ea6-c4771d88f9d6",
   "metadata": {},
   "outputs": [],
   "source": [
    "G.number_of_edges()"
   ]
  },
  {
   "cell_type": "markdown",
   "id": "5c1a3d18-8b79-4d8e-8812-3e507dfb219a",
   "metadata": {},
   "source": [
    "## Histogram with cluster's coefficient"
   ]
  },
  {
   "cell_type": "code",
   "execution_count": null,
   "id": "68eb7cdd-7368-4709-b990-362af7e2c113",
   "metadata": {},
   "outputs": [],
   "source": [
    "data = list(nx.clustering(G).items())\n",
    "H = np.array(data)\n",
    "\n",
    "plt.hist(H[:, 1])"
   ]
  },
  {
   "cell_type": "markdown",
   "id": "650a7d05-3edd-4777-a303-6bd01e645e02",
   "metadata": {},
   "source": [
    "## Filtering connections with high weights"
   ]
  },
  {
   "cell_type": "markdown",
   "id": "4faf8030-e5f1-4f87-9155-f74ba8480351",
   "metadata": {},
   "source": [
    "### Creating new graph object"
   ]
  },
  {
   "cell_type": "code",
   "execution_count": null,
   "id": "09fa7f5f-922b-4607-9d35-0e2428df3c2f",
   "metadata": {},
   "outputs": [],
   "source": [
    "Gf = nx.from_scipy_sparse_matrix(A)\n",
    "Gf.remove_nodes_from(list(nx.isolates(G)))"
   ]
  },
  {
   "cell_type": "markdown",
   "id": "29f51a03-75d0-4123-9cc8-2d0250e7df8b",
   "metadata": {},
   "source": [
    "### Removing all nodes with less edges than the value specified"
   ]
  },
  {
   "cell_type": "code",
   "execution_count": null,
   "id": "a0886ea1-1f5f-41ca-b136-fa5cc2ad9988",
   "metadata": {},
   "outputs": [],
   "source": [
    "threshold = 2"
   ]
  },
  {
   "cell_type": "code",
   "execution_count": null,
   "id": "4d1fe673-52bb-4269-8dc7-b35b255023fc",
   "metadata": {},
   "outputs": [],
   "source": [
    "Gf_edges = list(Gf.edges())\n",
    "Gf_edges_weight = nx.get_edge_attributes(Gf, \"weight\")\n",
    "\n",
    "for e in Gf_edges:\n",
    "    if Gf_edges_weight[e] < threshold:\n",
    "        Gf.remove_edge(e[0], e[1])\n",
    "        "
   ]
  },
  {
   "cell_type": "code",
   "execution_count": null,
   "id": "4ef9c02f-0fca-4bf8-9971-3ec24960c953",
   "metadata": {},
   "outputs": [],
   "source": [
    "Gf.remove_nodes_from(list(nx.isolates(Gf)))"
   ]
  },
  {
   "cell_type": "code",
   "execution_count": null,
   "id": "4d7f4b35-7712-4cd8-a52f-42e326ce4420",
   "metadata": {},
   "outputs": [],
   "source": [
    "Gf.number_of_nodes()"
   ]
  },
  {
   "cell_type": "markdown",
   "id": "9df9805f-7ae1-495f-b762-e85d03af7ede",
   "metadata": {},
   "source": [
    "## Network graph"
   ]
  },
  {
   "cell_type": "code",
   "execution_count": null,
   "id": "69c306e9-9645-4776-be3b-3b10d073a5bc",
   "metadata": {},
   "outputs": [],
   "source": [
    "nx.draw(\n",
    "    Gf,\n",
    "    pos=nx.drawing.nx_agraph.graphviz_layout(Gf),\n",
    "    with_labels=True\n",
    ")"
   ]
  },
  {
   "cell_type": "markdown",
   "id": "19887444-e698-432f-b227-d9df5a384657",
   "metadata": {},
   "source": [
    "---\n",
    "---"
   ]
  }
 ],
 "metadata": {
  "kernelspec": {
   "display_name": "Python 3",
   "language": "python",
   "name": "python3"
  },
  "language_info": {
   "codemirror_mode": {
    "name": "ipython",
    "version": 3
   },
   "file_extension": ".py",
   "mimetype": "text/x-python",
   "name": "python",
   "nbconvert_exporter": "python",
   "pygments_lexer": "ipython3",
   "version": "3.8.6"
  },
  "toc-autonumbering": true
 },
 "nbformat": 4,
 "nbformat_minor": 5
}
