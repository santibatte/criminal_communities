{
 "cells": [
  {
   "cell_type": "code",
   "execution_count": 2,
   "id": "7b71ea57",
   "metadata": {
    "ExecuteTime": {
     "end_time": "2021-05-14T23:29:05.718904Z",
     "start_time": "2021-05-14T23:29:05.716205Z"
    },
    "slideshow": {
     "slide_type": "skip"
    }
   },
   "outputs": [],
   "source": [
    "from IPython.display import HTML"
   ]
  },
  {
   "cell_type": "markdown",
   "id": "5c5eb914",
   "metadata": {
    "cell_style": "center",
    "slideshow": {
     "slide_type": "slide"
    }
   },
   "source": [
    "# Presentación Métodos Analíticos"
   ]
  },
  {
   "cell_type": "markdown",
   "id": "913aa78e",
   "metadata": {
    "slideshow": {
     "slide_type": "slide"
    }
   },
   "source": [
    "## Primera sección"
   ]
  },
  {
   "cell_type": "markdown",
   "id": "27b95afc",
   "metadata": {
    "slideshow": {
     "slide_type": "subslide"
    }
   },
   "source": [
    "Contenido de la primera sección...."
   ]
  },
  {
   "cell_type": "markdown",
   "id": "da690ae9",
   "metadata": {
    "slideshow": {
     "slide_type": "fragment"
    }
   },
   "source": [
    "Más contenido...."
   ]
  },
  {
   "cell_type": "markdown",
   "id": "46cf4780",
   "metadata": {
    "slideshow": {
     "slide_type": "fragment"
    }
   },
   "source": [
    "Más contenido...."
   ]
  },
  {
   "cell_type": "markdown",
   "id": "bfdb586a",
   "metadata": {
    "slideshow": {
     "slide_type": "slide"
    }
   },
   "source": [
    "## Segunda sección"
   ]
  },
  {
   "cell_type": "markdown",
   "id": "c9a9c0c4",
   "metadata": {
    "slideshow": {
     "slide_type": "subslide"
    }
   },
   "source": [
    "Contenido de la segunda sección...."
   ]
  },
  {
   "cell_type": "markdown",
   "id": "3b58f859",
   "metadata": {
    "slideshow": {
     "slide_type": "fragment"
    }
   },
   "source": [
    "Más contenido...."
   ]
  },
  {
   "cell_type": "markdown",
   "id": "85a45a2e",
   "metadata": {
    "slideshow": {
     "slide_type": "subslide"
    }
   },
   "source": [
    "Gráfica"
   ]
  },
  {
   "cell_type": "code",
   "execution_count": 18,
   "id": "a1e04b80",
   "metadata": {
    "ExecuteTime": {
     "end_time": "2021-05-14T23:47:20.188336Z",
     "start_time": "2021-05-14T23:47:20.185189Z"
    },
    "slideshow": {
     "slide_type": "fragment"
    }
   },
   "outputs": [
    {
     "data": {
      "text/html": [
       "<iframe width=\"2000\" height=\"900\" src=\"http://[::]:8000/\" frameborder=\"0\" allowfullscreen></iframe>"
      ],
      "text/plain": [
       "<IPython.core.display.HTML object>"
      ]
     },
     "execution_count": 18,
     "metadata": {},
     "output_type": "execute_result"
    }
   ],
   "source": [
    "HTML('<iframe width=\"2000\" height=\"900\" src=\"http://[::]:8000/\" frameborder=\"0\" allowfullscreen></iframe>')"
   ]
  },
  {
   "cell_type": "markdown",
   "id": "4b0718b0",
   "metadata": {
    "cell_style": "center",
    "slideshow": {
     "slide_type": "slide"
    }
   },
   "source": [
    "# Gracias"
   ]
  }
 ],
 "metadata": {
  "celltoolbar": "Slideshow",
  "kernelspec": {
   "display_name": "Python 3",
   "language": "python",
   "name": "python3"
  },
  "language_info": {
   "codemirror_mode": {
    "name": "ipython",
    "version": 3
   },
   "file_extension": ".py",
   "mimetype": "text/x-python",
   "name": "python",
   "nbconvert_exporter": "python",
   "pygments_lexer": "ipython3",
   "version": "3.8.6"
  },
  "toc": {
   "base_numbering": 1,
   "nav_menu": {},
   "number_sections": true,
   "sideBar": true,
   "skip_h1_title": true,
   "title_cell": "Table of Contents",
   "title_sidebar": "Contents",
   "toc_cell": false,
   "toc_position": {},
   "toc_section_display": true,
   "toc_window_display": false
  }
 },
 "nbformat": 4,
 "nbformat_minor": 5
}
